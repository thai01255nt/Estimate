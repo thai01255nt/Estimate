{
 "cells": [
  {
   "cell_type": "code",
   "execution_count": 47,
   "metadata": {
    "collapsed": true
   },
   "outputs": [],
   "source": [
    "import numpy as np\n",
    "import pandas as pd\n"
   ]
  },
  {
   "cell_type": "code",
   "execution_count": 48,
   "metadata": {},
   "outputs": [],
   "source": [
    "locale1 = 'C:/Users/thai0125nt/Downloads/FCND-Estimation-CPP-master1/FCND-Estimation-CPP-master/config/log/Graph1.txt'\n",
    "locale2 = 'C:/Users/thai0125nt/Downloads/FCND-Estimation-CPP-master1/FCND-Estimation-CPP-master/config/log/Graph2.txt'\n",
    "\n",
    "Graph1 = pd.read_csv(locale1)\n",
    "Graph2 = pd.read_csv(locale2)"
   ]
  },
  {
   "cell_type": "code",
   "execution_count": 49,
   "metadata": {},
   "outputs": [
    {
     "data": {
      "text/plain": [
       "(0.70918799300965363, 0.48826798467800853)"
      ]
     },
     "execution_count": 49,
     "metadata": {},
     "output_type": "execute_result"
    }
   ],
   "source": [
    "Graph1 = np.array(Graph1[' Quad.GPS.X'])\n",
    "Graph2 = np.array(Graph2[' Quad.IMU.AX'])\n",
    "stdGPS = np.linalg.norm(Graph1)/np.sqrt(len(Graph1))\n",
    "stdAcc = np.linalg.norm(Graph2)/np.sqrt(len(Graph2))\n",
    "(stdGPS,stdAcc)"
   ]
  },
  {
   "cell_type": "code",
   "execution_count": null,
   "metadata": {
    "collapsed": true
   },
   "outputs": [],
   "source": []
  }
 ],
 "metadata": {
  "kernelspec": {
   "display_name": "Python 3",
   "language": "python",
   "name": "python3"
  },
  "language_info": {
   "codemirror_mode": {
    "name": "ipython",
    "version": 3
   },
   "file_extension": ".py",
   "mimetype": "text/x-python",
   "name": "python",
   "nbconvert_exporter": "python",
   "pygments_lexer": "ipython3",
   "version": "3.6.3"
  }
 },
 "nbformat": 4,
 "nbformat_minor": 2
}
